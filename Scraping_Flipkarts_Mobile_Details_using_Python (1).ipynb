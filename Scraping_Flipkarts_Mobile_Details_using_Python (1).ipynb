{
 "cells": [
  {
   "cell_type": "markdown",
   "metadata": {},
   "source": [
    "# Scraping Flipkart's Mobile Details using Python"
   ]
  },
  {
   "cell_type": "markdown",
   "metadata": {},
   "source": [
    "\n",
    "\n",
    "![](https://i.imgur.com/J9Np8Il.jpg)\n",
    "\n",
    "\n",
    "\n",
    "Web scraping is the process of extracting and parsing data from websites in an automated fashion using a computer program. It's a useful technique for creating datasets for research and learning. While web scraping often involves parsing and processing HTML documents, some platforms also offer REST APIs to retrieve information in a machine-readable format like JSON. In this tutorial, we'll use web scraping and REST APIs to create a real-world dataset."
   ]
  },
  {
   "cell_type": "markdown",
   "metadata": {},
   "source": [
    "This Project covers the following topics: \n",
    "\n",
    "* Downloading web pages using the requests library\n",
    "* Inspecting the HTML source code of a web page\n",
    "* Parsing parts of a website using Beautiful Soup\n",
    "* Writing parsed information into CSV files\n",
    "* Using a REST API to retrieve data as JSON\n",
    "* Combining data from multiple sources\n",
    "* Using links on a page to crawl a website"
   ]
  },
  {
   "cell_type": "markdown",
   "metadata": {},
   "source": [
    "### How to Run the Code\n",
    "\n",
    "The best way to learn the material is to execute the code and experiment with it yourself. This tutorial is an executable [Jupyter notebook](https://jupyter.org). You can _run_ this tutorial and experiment with the code examples in a couple of ways: *using free online resources* (recommended) or *on your computer*.\n",
    "\n",
    "#### Option 1: Running using free online resources (1-click, recommended)\n",
    "\n",
    "The easiest way to start executing the code is to click the **Run** button at the top of this page and select **Run on Binder**. You can also select \"Run on Colab\" or \"Run on Kaggle\", but you'll need to create an account on [Google Colab](https://colab.research.google.com) or [Kaggle](https://kaggle.com) to use these platforms.\n",
    "\n",
    "\n",
    "#### Option 2: Running on your computer locally\n",
    "\n",
    "To run the code on your computer locally, you'll need to set up [Python](https://www.python.org), download the notebook and install the required libraries. We recommend using the [Conda](https://docs.conda.io/projects/conda/en/latest/user-guide/install/) distribution of Python. Click the **Run** button at the top of this page, select the **Run Locally** option, and follow the instructions.\n",
    "\n",
    "\n",
    "\n"
   ]
  },
  {
   "cell_type": "markdown",
   "metadata": {},
   "source": [
    "## Problem \n",
    "\n",
    "\n",
    "> **QUESTION**: Write a Python function that creates a CSV file (comma-separated values) containing details about the 24 top mobile phones below 20k in Flipkart. You can view the top mobile phones below 20k in the  [Flipkart page ](https://www.flipkart.com/search?q=mobile+below+20000&otracker=search&otracker1=search&marketplace=FLIPKART&as-show=on&as=off&page=1). The output CSV should contain these details: mobile_name, mobile_description, mobile_price.\n",
    "\n",
    "![](https://i.imgur.com/CW1nZZ1.png)"
   ]
  },
  {
   "cell_type": "markdown",
   "metadata": {},
   "source": [
    "## Downloading a web page using `requests`\n",
    "\n",
    "When you access a URL like [Flipkart page ](https://www.flipkart.com/search?q=mobile%20below%2020000&otracker=search&otracker1=search&marketplace=FLIPKART&as-show=on&as=off) using a web browser, it downloads the contents of the web page the URL points to and displays the output on the screen. Before we can extract information from a web page, we need to download the page using Python.\n",
    "\n",
    "We'll use a library called [`requests`](https://docs.python-requests.org/en/master/) to download web pages from the internet. Let's begin by installing and importing the library."
   ]
  },
  {
   "cell_type": "code",
   "execution_count": 1,
   "metadata": {},
   "outputs": [],
   "source": [
    "!pip install jovian --upgrade --quiet"
   ]
  },
  {
   "cell_type": "code",
   "execution_count": 2,
   "metadata": {},
   "outputs": [],
   "source": [
    "import jovian"
   ]
  },
  {
   "cell_type": "code",
   "execution_count": 3,
   "metadata": {},
   "outputs": [],
   "source": [
    "import requests"
   ]
  },
  {
   "cell_type": "markdown",
   "metadata": {},
   "source": [
    "To download a page we can use the get function from requests, which returns a response object."
   ]
  },
  {
   "cell_type": "code",
   "execution_count": 4,
   "metadata": {},
   "outputs": [],
   "source": [
    " topic_url =\"https://www.flipkart.com/search?q=mobile+below+20000&otracker=search&otracker1=search&marketplace=FLIPKART&as-show=on&as=off&page1\""
   ]
  },
  {
   "cell_type": "code",
   "execution_count": 5,
   "metadata": {},
   "outputs": [],
   "source": [
    "response = requests.get(topic_url)"
   ]
  },
  {
   "cell_type": "markdown",
   "metadata": {},
   "source": [
    "* requests.get returns a response object with the page contents and some information indicating whether the request was successful, using a status code. Learn more about HTTP status codes here: https://developer.mozilla.org/en-US/docs/Web/HTTP/Status."
   ]
  },
  {
   "cell_type": "code",
   "execution_count": 6,
   "metadata": {
    "scrolled": false
   },
   "outputs": [
    {
     "name": "stdout",
     "output_type": "stream",
     "text": [
      "200\n"
     ]
    }
   ],
   "source": [
    "print(response.status_code)"
   ]
  },
  {
   "cell_type": "code",
   "execution_count": 7,
   "metadata": {},
   "outputs": [],
   "source": [
    "page_contents=response.text"
   ]
  },
  {
   "cell_type": "markdown",
   "metadata": {},
   "source": [
    "If the request was successful, response.status_code is set to a value between 200 and 299."
   ]
  },
  {
   "cell_type": "code",
   "execution_count": 8,
   "metadata": {
    "scrolled": true
   },
   "outputs": [
    {
     "data": {
      "text/plain": [
       "595802"
      ]
     },
     "execution_count": 8,
     "metadata": {},
     "output_type": "execute_result"
    }
   ],
   "source": [
    "len(page_contents)"
   ]
  },
  {
   "cell_type": "code",
   "execution_count": 9,
   "metadata": {},
   "outputs": [
    {
     "name": "stdout",
     "output_type": "stream",
     "text": [
      "<!doctype html><html lang=\"en\"><head><link href=\"https://rukminim1.flixcart.com\" rel=\"preconnect\"/><link rel=\"stylesheet\" href=\"//static-assets-web.flixcart.com/fk-p-linchpin-web/fk-cp-zion/css/app_modules.chunk.905c37.css\"/><link rel=\"stylesheet\" href=\"//static-assets-web.flixcart.com/fk-p-linchpin-web/fk-cp-zion/css/app.chunk.104e9a.css\"/><meta http-equiv=\"Content-type\" content=\"text/html; charset=utf-8\"/><meta http-equiv=\"X-UA-Compatible\" content=\"IE=Edge\"/><meta property=\"fb:page_id\" content=\"102988293558\"/><meta property=\"fb:admins\" content=\"658873552,624500995,100000233612389\"/><meta name=\"robots\" content=\"noodp\"/><link rel=\"shortcut icon\" href=\"https://static-assets-web.flixcart.com/www/promos/new/20150528-140547-favicon-retina.ico\"/><link type=\"application/opensearchdescription+xml\" rel=\"search\" href=\"/osdd.xml?v=2\"/><meta property=\"og:type\" content=\"website\"/><meta name=\"og_site_name\" property=\"og:site_name\" content=\"Flipkart.com\"/><link rel=\"apple-touch-icon\" sizes=\"57x57\" hr\n"
     ]
    }
   ],
   "source": [
    " print(page_contents[:1000])"
   ]
  },
  {
   "cell_type": "markdown",
   "metadata": {},
   "source": [
    "\n",
    "* The pages contains large number of characters! Let's view the first 1000 characters of the web pages.\n",
    "\n",
    "* What you see above is the *source code* of the web page. It written in a language called [HTML](https://developer.mozilla.org/en-US/docs/Web/HTML). It defines the content and structure of the web page. "
   ]
  },
  {
   "cell_type": "code",
   "execution_count": 10,
   "metadata": {},
   "outputs": [],
   "source": [
    "with open('top-mobile-below-20k.html', 'a', encoding=\"utf-8\") as file:\n",
    "        file.write(page_contents)"
   ]
  },
  {
   "cell_type": "markdown",
   "metadata": {},
   "source": [
    "Let's save the contents to a file with the `.html` extension."
   ]
  },
  {
   "cell_type": "markdown",
   "metadata": {},
   "source": [
    "While this looks similar to the original web page, note that it's simply a copy. You will notice that none of the links or buttons work. To view or edit the source code of the file, click \"File > Open\" within Jupyter, then select the file top-mobile-below-20k.html from the list and click the \"Edit\" button.\n",
    "\n",
    "![](https://i.imgur.com/TzE3Aiu.png)"
   ]
  },
  {
   "cell_type": "markdown",
   "metadata": {},
   "source": [
    "As you might expect, the source code looks something like this:\n",
    "\n",
    "![](https://i.imgur.com/pJwaANN.png)"
   ]
  },
  {
   "cell_type": "markdown",
   "metadata": {},
   "source": [
    "## Inspecting the HTML source code of a web page\n",
    "\n",
    "![](https://i.imgur.com/lg2nKNI.jpg)\n",
    "\n",
    "As mentioned earlier, web pages are written in a language called HTML (Hyper Text Markup Language). HTML is a fairly simple language comprised of *tags*  (also called *nodes* or *elements*) e.g. `<a href=\"https://jovian.ai\" target=\"_blank\">Go to Jovian</a>`. An HTML tag has three parts:\n",
    "\n",
    "1. **Name**: (`html`, `head`, `body`, `div`, etc.) Indicates what the tag represents and how a browser should interpret the information inside it.\n",
    "2. **Attributes**: (`href`, `target`, `class`, `id`, etc.) Properties of tag used by the browser to customize how a tag is displayed and decide what happens on user interactions.\n",
    "3. **Children**: A tag can contain some text or other tags or both between the opening and closing segments, e.g., `<div>Some content</div>`.\n"
   ]
  },
  {
   "cell_type": "markdown",
   "metadata": {},
   "source": [
    "Common Tags and Attributes\n",
    "Following are some of the most commonly used HTML tags:\n",
    "\n",
    "html\n",
    "head\n",
    "title\n",
    "body\n",
    "div\n",
    "span\n",
    "h1 to h6\n",
    "p\n",
    "img\n",
    "ul, ol and li\n",
    "table, tr, th and td\n",
    "style\n",
    "...\n",
    "Each tag supports several attributes. Following are some common attributes used to modify the behavior of tags:\n",
    "\n",
    "id\n",
    "style\n",
    "class\n",
    "href (used with <a>)\n",
    "src (used with <img>)\n",
    "EXERCISE: Complete this tutorial on HTML: https://www.htmldog.com/guides/html/ . Once done, try describing what the above tags and attributes are used for. Try creating a new HTML page using the tags you find most interesting.\n",
    "\n",
    "To learn how to style HTML tags, check out this tutorial on CSS: https://www.htmldog.com/guides/css/"
   ]
  },
  {
   "cell_type": "markdown",
   "metadata": {},
   "source": [
    "### Inspecting HTML in the Browser\n",
    "\n",
    "You can view the source code of any webpage right within your browser by right-clicking anywhere on a page and selecting the \"Inspect\" option. It opens the \"Developer Tools\" pane, where you can see the source code as a tree. You can expand and collapse various nodes and find the source code for a specific portion of the page.\n",
    "\n",
    "Here's what it looks like on the Chrome browser:\n",
    "\n",
    "![](https://i.imgur.com/ZTrcylh.png)"
   ]
  },
  {
   "cell_type": "markdown",
   "metadata": {},
   "source": [
    "## Extracting information from HTML using Beautiful Soup\n",
    "\n",
    "To extract information from the HTML source code of a webpage programmatically, we can use the [Beautiful Soup](https://www.crummy.com/software/BeautifulSoup/bs4/doc/) library. Let's install the library and import the `BeautifulSoup` class from the `bs4` module."
   ]
  },
  {
   "cell_type": "code",
   "execution_count": 11,
   "metadata": {},
   "outputs": [],
   "source": [
    "# Install the library\n",
    "!pip install beautifulsoup4 --upgrade --quiet"
   ]
  },
  {
   "cell_type": "code",
   "execution_count": 12,
   "metadata": {},
   "outputs": [],
   "source": [
    "# Import the library\n",
    "from bs4 import BeautifulSoup"
   ]
  },
  {
   "cell_type": "code",
   "execution_count": 13,
   "metadata": {},
   "outputs": [],
   "source": [
    "?BeautifulSoup"
   ]
  },
  {
   "cell_type": "markdown",
   "metadata": {},
   "source": [
    "Next, let's read the contents of the file `top-mobile-below-20k.html` and create a `BeautifulSoup` object to parse the content."
   ]
  },
  {
   "cell_type": "code",
   "execution_count": 14,
   "metadata": {},
   "outputs": [],
   "source": [
    "with open('top-mobile-below-20k.html', 'r') as f:\n",
    "    html_source = f.read()"
   ]
  },
  {
   "cell_type": "code",
   "execution_count": 15,
   "metadata": {},
   "outputs": [
    {
     "data": {
      "text/plain": [
       "'<!doctype html><html lang=\"en\"><head><link href=\"https://rukminim1.flixcart.com\" rel=\"preconnect\"/><link rel=\"stylesheet\" href=\"//static-assets-web.flixcart.com/fk-p-linchpin-web/fk-cp-zion/css/app_modules.chunk.905c37.css\"/><link rel=\"stylesheet\" href=\"//static-assets-web.flixcart.com/fk-p-linchpin-web/fk-cp-zion/css/app.chunk.104e9a.css\"/><meta http-equiv=\"Content-type\" content=\"text/html; charset=utf-8\"/><meta http-equiv=\"X-UA-Compatible\" content=\"IE=Edge\"/><meta property=\"fb:page_id\" content=\"102988293558\"/><meta property=\"fb:admins\" content=\"658873552,624500995,100000233612389\"/><meta name=\"robots\" content=\"noodp\"/><link rel=\"shortcut icon\" href=\"https://static-assets-web.flixcart.com/www/promos/new/20150528-140547-favicon-retina.ico\"/><link type=\"application/opensearchdescription+xml\" rel=\"search\" href=\"/osdd.xml?v=2\"/><meta property=\"og:type\" content=\"website\"/><meta name=\"og_site_name\" property=\"og:site_name\" content=\"Flipkart.com\"/><link rel=\"apple-touch-icon\" sizes=\"57x57\" hr'"
      ]
     },
     "execution_count": 15,
     "metadata": {},
     "output_type": "execute_result"
    }
   ],
   "source": [
    "html_source[:1000]"
   ]
  },
  {
   "cell_type": "code",
   "execution_count": 16,
   "metadata": {},
   "outputs": [],
   "source": [
    "doc = BeautifulSoup(html_source, 'html.parser')"
   ]
  },
  {
   "cell_type": "code",
   "execution_count": 17,
   "metadata": {},
   "outputs": [
    {
     "data": {
      "text/plain": [
       "bs4.BeautifulSoup"
      ]
     },
     "execution_count": 17,
     "metadata": {},
     "output_type": "execute_result"
    }
   ],
   "source": [
    "type(doc)"
   ]
  },
  {
   "cell_type": "markdown",
   "metadata": {},
   "source": [
    "The `doc` object contains several properties and methods for extracting information from the HTML document."
   ]
  },
  {
   "cell_type": "markdown",
   "metadata": {},
   "source": [
    "### Finding all tags of the same type and Searching by Class\n",
    "\n",
    "To find all the occurrences of a tag, use the `find_all` method.\n",
    "\n",
    "The `class` attribute is one of the most frequently used attributes on HTML tags (used for layout and styling). We can search for tags containing a class using the `class_` argument in `find_all` (note that `class` is a reserved keyword in Python, hence the underscore in the argument name)."
   ]
  },
  {
   "cell_type": "markdown",
   "metadata": {},
   "source": [
    "### Applying `for` loop to get all content between the tags to store in a single `list`."
   ]
  },
  {
   "cell_type": "markdown",
   "metadata": {},
   "source": [
    "Filtering the `div` tag by providing specific `class` to get mobile name."
   ]
  },
  {
   "cell_type": "code",
   "execution_count": 18,
   "metadata": {},
   "outputs": [],
   "source": [
    "mobilename_tags=doc.find_all('div',{'class':'_4rR01T'})\n",
    "def getMobile_name_list(mobilename_tags): \n",
    "    mobile_names=[]\n",
    "\n",
    "    for tag in mobilename_tags:\n",
    "        mobile_names.append(tag.text)\n",
    "    return mobile_names \n",
    "mobile_name = getMobile_name_list(mobilename_tags)\n"
   ]
  },
  {
   "cell_type": "markdown",
   "metadata": {},
   "source": [
    "Filtering the `ul` tag by providing specific `class` to get mobile description."
   ]
  },
  {
   "cell_type": "code",
   "execution_count": 19,
   "metadata": {
    "scrolled": true
   },
   "outputs": [],
   "source": [
    "mobile_description_tags=doc.find_all('ul',{'class':'_1xgFaf'})\n",
    "def getMobile_description_list(mobile_description_tags):\n",
    "    mobile_descriptions=[]\n",
    "\n",
    "    for tag in mobile_description_tags:\n",
    "        mobile_descriptions.append(tag.text)\n",
    "    return mobile_descriptions\n",
    "mobile_description = getMobile_description_list(mobile_description_tags)\n"
   ]
  },
  {
   "cell_type": "markdown",
   "metadata": {},
   "source": [
    "Filtering the `div` tag by providing specific `class` to get price of mobile."
   ]
  },
  {
   "cell_type": "code",
   "execution_count": 20,
   "metadata": {
    "scrolled": true
   },
   "outputs": [],
   "source": [
    "price_tags=doc.find_all('div',{'class':'_30jeq3 _1_WHN1'})\n",
    "def getMobile_price_list(price_tags):\n",
    "    mobile_prices=[]\n",
    "\n",
    "    for tag in price_tags:\n",
    "        mobile_prices.append(tag.text)\n",
    "    return mobile_prices\n",
    " \n",
    "\n"
   ]
  },
  {
   "cell_type": "code",
   "execution_count": 21,
   "metadata": {},
   "outputs": [],
   "source": [
    "#This function is used to scrap multiple pages by providing page url\n",
    "def scrape_page(page_number):\n",
    "    url= topic_url =\"https://www.flipkart.com/search?q=mobile+below+20000&otracker=search&otracker1=search&marketplace=FLIPKART&as-show=on&as=off&page=\"+str(page_number)\n",
    "    doc=BeautifulSoup(page_contents, 'html.parser')\n",
    "    name=getMobile_name_list(mobilename_tags)\n",
    "    description=getMobile_description_list(mobile_description_tags)\n",
    "    price=getMobile_price_list(price_tags)\n",
    "    \n",
    "\n",
    "    return name,description,price"
   ]
  },
  {
   "cell_type": "code",
   "execution_count": 22,
   "metadata": {},
   "outputs": [],
   "source": [
    "mobile_name,mobile_description,mobile_price=[],[],[]\n",
    "for page_number in range(1,6):\n",
    "    name,description,price= scrape_page(page_number)\n",
    "    mobile_name += name\n",
    "    mobile_description += description\n",
    "    mobile_price += price\n",
    "    "
   ]
  },
  {
   "cell_type": "markdown",
   "metadata": {},
   "source": [
    "## Pandas \n",
    "\n",
    "pandas is a software library written for the Python programming language for data manipulation and analysis. In particular, it offers data structures and operations for manipulating numerical tables and time series. It is free software released under the three-clause BSD license."
   ]
  },
  {
   "cell_type": "code",
   "execution_count": 23,
   "metadata": {},
   "outputs": [],
   "source": [
    "!pip install pandas --quiet"
   ]
  },
  {
   "cell_type": "code",
   "execution_count": 24,
   "metadata": {},
   "outputs": [],
   "source": [
    "import pandas as pd"
   ]
  },
  {
   "cell_type": "code",
   "execution_count": 25,
   "metadata": {},
   "outputs": [],
   "source": [
    "All_mobile={\n",
    "    'mobile_name' : mobile_name,\n",
    "    'mobile_description' : mobile_description,\n",
    "    'mobile_price' : mobile_price\n",
    "}"
   ]
  },
  {
   "cell_type": "markdown",
   "metadata": {},
   "source": [
    "### Pandas DataFrame\n",
    "\n",
    "A Pandas DataFrame is a 2 dimensional data structure, like a 2 dimensional array, or a table with rows and columns. As you can see from the result above, the DataFrame is like a table with rows and columns. Pandas use the loc attribute to return one or more specified row (s)."
   ]
  },
  {
   "cell_type": "code",
   "execution_count": 26,
   "metadata": {},
   "outputs": [],
   "source": [
    "mobile_df = pd.DataFrame(All_mobile)\n",
    "mobile_df.index += 1"
   ]
  },
  {
   "cell_type": "code",
   "execution_count": 27,
   "metadata": {
    "scrolled": false
   },
   "outputs": [
    {
     "data": {
      "text/html": [
       "<div>\n",
       "<style scoped>\n",
       "    .dataframe tbody tr th:only-of-type {\n",
       "        vertical-align: middle;\n",
       "    }\n",
       "\n",
       "    .dataframe tbody tr th {\n",
       "        vertical-align: top;\n",
       "    }\n",
       "\n",
       "    .dataframe thead th {\n",
       "        text-align: right;\n",
       "    }\n",
       "</style>\n",
       "<table border=\"1\" class=\"dataframe\">\n",
       "  <thead>\n",
       "    <tr style=\"text-align: right;\">\n",
       "      <th></th>\n",
       "      <th>mobile_name</th>\n",
       "      <th>mobile_description</th>\n",
       "      <th>mobile_price</th>\n",
       "    </tr>\n",
       "  </thead>\n",
       "  <tbody>\n",
       "    <tr>\n",
       "      <th>1</th>\n",
       "      <td>vivo T1 5G (Starlight Black, 128 GB)</td>\n",
       "      <td>6 GB RAM | 128 GB ROM | Expandable Upto 1 TB16...</td>\n",
       "      <td>₹16,990</td>\n",
       "    </tr>\n",
       "    <tr>\n",
       "      <th>2</th>\n",
       "      <td>vivo T1 5G (Starlight Black, 128 GB)</td>\n",
       "      <td>4 GB RAM | 128 GB ROM | Expandable Upto 1 TB16...</td>\n",
       "      <td>₹15,990</td>\n",
       "    </tr>\n",
       "    <tr>\n",
       "      <th>3</th>\n",
       "      <td>vivo T1 5G (Rainbow Fantasy, 128 GB)</td>\n",
       "      <td>6 GB RAM | 128 GB ROM | Expandable Upto 1 TB16...</td>\n",
       "      <td>₹16,990</td>\n",
       "    </tr>\n",
       "    <tr>\n",
       "      <th>4</th>\n",
       "      <td>Cellecor E8</td>\n",
       "      <td>32 MB RAM | 32 MB ROM6.1 cm (2.4 inch) Display...</td>\n",
       "      <td>₹1,469</td>\n",
       "    </tr>\n",
       "    <tr>\n",
       "      <th>5</th>\n",
       "      <td>vivo T1 5G (Rainbow Fantasy, 128 GB)</td>\n",
       "      <td>4 GB RAM | 128 GB ROM | Expandable Upto 1 TB16...</td>\n",
       "      <td>₹15,990</td>\n",
       "    </tr>\n",
       "    <tr>\n",
       "      <th>...</th>\n",
       "      <td>...</td>\n",
       "      <td>...</td>\n",
       "      <td>...</td>\n",
       "    </tr>\n",
       "    <tr>\n",
       "      <th>116</th>\n",
       "      <td>realme 9i 5G (Soulful Blue, 128 GB)</td>\n",
       "      <td>6 GB RAM | 128 GB ROM | Expandable Upto 1 TB16...</td>\n",
       "      <td>₹16,999</td>\n",
       "    </tr>\n",
       "    <tr>\n",
       "      <th>117</th>\n",
       "      <td>Cellecor E2+</td>\n",
       "      <td>32 MB RAM | 32 MB ROM | Expandable Upto 32 GB4...</td>\n",
       "      <td>₹1,119</td>\n",
       "    </tr>\n",
       "    <tr>\n",
       "      <th>118</th>\n",
       "      <td>realme 8s 5G (Universe Purple, 128 GB)</td>\n",
       "      <td>8 GB RAM | 128 GB ROM | Expandable Upto 1 TB16...</td>\n",
       "      <td>₹16,499</td>\n",
       "    </tr>\n",
       "    <tr>\n",
       "      <th>119</th>\n",
       "      <td>vivo T1 44W (Starry Sky, 128 GB)</td>\n",
       "      <td>6 GB RAM | 128 GB ROM | Expandable Upto 1 TB16...</td>\n",
       "      <td>₹15,999</td>\n",
       "    </tr>\n",
       "    <tr>\n",
       "      <th>120</th>\n",
       "      <td>vivo T1 44W (Ice Dawn, 128 GB)</td>\n",
       "      <td>6 GB RAM | 128 GB ROM | Expandable Upto 1 TB16...</td>\n",
       "      <td>₹15,999</td>\n",
       "    </tr>\n",
       "  </tbody>\n",
       "</table>\n",
       "<p>120 rows × 3 columns</p>\n",
       "</div>"
      ],
      "text/plain": [
       "                                mobile_name  \\\n",
       "1      vivo T1 5G (Starlight Black, 128 GB)   \n",
       "2      vivo T1 5G (Starlight Black, 128 GB)   \n",
       "3      vivo T1 5G (Rainbow Fantasy, 128 GB)   \n",
       "4                               Cellecor E8   \n",
       "5      vivo T1 5G (Rainbow Fantasy, 128 GB)   \n",
       "..                                      ...   \n",
       "116     realme 9i 5G (Soulful Blue, 128 GB)   \n",
       "117                            Cellecor E2+   \n",
       "118  realme 8s 5G (Universe Purple, 128 GB)   \n",
       "119        vivo T1 44W (Starry Sky, 128 GB)   \n",
       "120          vivo T1 44W (Ice Dawn, 128 GB)   \n",
       "\n",
       "                                    mobile_description mobile_price  \n",
       "1    6 GB RAM | 128 GB ROM | Expandable Upto 1 TB16...      ₹16,990  \n",
       "2    4 GB RAM | 128 GB ROM | Expandable Upto 1 TB16...      ₹15,990  \n",
       "3    6 GB RAM | 128 GB ROM | Expandable Upto 1 TB16...      ₹16,990  \n",
       "4    32 MB RAM | 32 MB ROM6.1 cm (2.4 inch) Display...       ₹1,469  \n",
       "5    4 GB RAM | 128 GB ROM | Expandable Upto 1 TB16...      ₹15,990  \n",
       "..                                                 ...          ...  \n",
       "116  6 GB RAM | 128 GB ROM | Expandable Upto 1 TB16...      ₹16,999  \n",
       "117  32 MB RAM | 32 MB ROM | Expandable Upto 32 GB4...       ₹1,119  \n",
       "118  8 GB RAM | 128 GB ROM | Expandable Upto 1 TB16...      ₹16,499  \n",
       "119  6 GB RAM | 128 GB ROM | Expandable Upto 1 TB16...      ₹15,999  \n",
       "120  6 GB RAM | 128 GB ROM | Expandable Upto 1 TB16...      ₹15,999  \n",
       "\n",
       "[120 rows x 3 columns]"
      ]
     },
     "execution_count": 27,
     "metadata": {},
     "output_type": "execute_result"
    }
   ],
   "source": [
    "mobile_df\n"
   ]
  },
  {
   "cell_type": "markdown",
   "metadata": {},
   "source": [
    "## Create CSV file from extracted information."
   ]
  },
  {
   "cell_type": "code",
   "execution_count": 28,
   "metadata": {},
   "outputs": [],
   "source": [
    "mobile_df.to_csv('list_of _mobile_below_20k', index=False)"
   ]
  },
  {
   "cell_type": "markdown",
   "metadata": {},
   "source": [
    "## Summary \n",
    "\n",
    "* The Scraping was done using Python libraries such as Requests, Selenium for extracting the data\n",
    "* Scraping top two pages of mobile phones below 20k in flipkart website like mobile name, mobile description and mobile price.\n",
    "* Parsed all the scraped data into a csv file containing 47 rows and 3 columns for each creative field.\n",
    "\n",
    "Web Scraping means collecting or download any kind of content or data from a website. Most of the popular websites have their API that allows you to scrape data and Python has also many web scraping libraries that allows you to scrape any kind of website. I hope you liked this article on web scraping project with Python.\n",
    "\n",
    "## Future work\n",
    "\n",
    "* Extracting more details of the project and creator by accessing the project links and creator links\n",
    "* Code optimization\n",
    "* Improving the documentation part of the project\n",
    "* Adding a time and date stamp at the point when website's page is requested and adding it to the output, as the web page is dynamic and frequently changes data and adding new projects.\n",
    "\n",
    "## References that will help you for `web scraping` :\n",
    "\n",
    "* https://youtu.be/9gwlKLxI3YA\n",
    "* https://www.youtube.com/watch?v=m-koIYWCaIo&t=946s\n",
    "* https://www.youtube.com/c/JovianML\n",
    "* https://github.com/benteddy/Web-Scraping-using-Python-Jupyter-Notebook-and-Selenium#:~:text=Web%20Scrapping%20using%20Python%20Jupyter%20Notebook%20and%20Selenium,get%20data%20and%20information%20from%20a%20website%20automatically.\n",
    "* https://github.com/H2001-hj/Web-Scraping-using-Python-Jupyter-Notebook"
   ]
  },
  {
   "cell_type": "code",
   "execution_count": null,
   "metadata": {},
   "outputs": [
    {
     "data": {
      "application/javascript": [
       "window.require && require([\"base/js/namespace\"],function(Jupyter){Jupyter.notebook.save_checkpoint()})"
      ],
      "text/plain": [
       "<IPython.core.display.Javascript object>"
      ]
     },
     "metadata": {},
     "output_type": "display_data"
    }
   ],
   "source": [
    "jovian.commit(files=[\"Scraping_Flipkarts_Mobile_Details_using_Python.ipynb\"], outputs=[\"list_of _mobile_below_20k\"])\n"
   ]
  },
  {
   "cell_type": "code",
   "execution_count": null,
   "metadata": {},
   "outputs": [],
   "source": []
  }
 ],
 "metadata": {
  "kernelspec": {
   "display_name": "Python 3 (ipykernel)",
   "language": "python",
   "name": "python3"
  },
  "language_info": {
   "codemirror_mode": {
    "name": "ipython",
    "version": 3
   },
   "file_extension": ".py",
   "mimetype": "text/x-python",
   "name": "python",
   "nbconvert_exporter": "python",
   "pygments_lexer": "ipython3",
   "version": "3.9.6"
  }
 },
 "nbformat": 4,
 "nbformat_minor": 2
}
